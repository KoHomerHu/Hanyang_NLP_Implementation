{
 "cells": [
  {
   "cell_type": "markdown",
   "id": "e1738868",
   "metadata": {},
   "source": [
    "# Scrap Data from Subreddit 'CryptoCurrency'\n",
    "\n",
    "## Using PRAW"
   ]
  },
  {
   "cell_type": "code",
   "execution_count": 23,
   "id": "3a3b78c7",
   "metadata": {},
   "outputs": [
    {
     "name": "stdout",
     "output_type": "stream",
     "text": [
      "                                               title  score  \\\n",
      "0  You hear about the kid who put in $500 into a ...  53901   \n",
      "1  Binance CEO, CZ, shades Elon Musk in tweet. - ...  45563   \n",
      "2  AOC reveals she doesn't hold bitcoin because s...  38738   \n",
      "3  It's been a crazy ride these past 7 years, but...  37807   \n",
      "4  Elon Musk Is Not One Of Us. Stop Using Him As ...  36960   \n",
      "\n",
      "              created  \n",
      "0 2021-05-08 23:28:35  \n",
      "1 2021-05-31 18:01:31  \n",
      "2 2021-12-07 22:03:52  \n",
      "3 2021-05-15 03:47:09  \n",
      "4 2021-04-10 07:30:55  \n"
     ]
    }
   ],
   "source": [
    "import praw\n",
    "import pandas as pd\n",
    "from datetime import datetime\n",
    "\n",
    "reddit = praw.Reddit(\n",
    "    client_id = '63UKv9Swsihz50RrdRchjA', \n",
    "    client_secret = 'jcFfZDuuREplPRZaiJzA3LNv3PjCBg',\n",
    "    user_agent = 'Homer_Hu')\n",
    "\n",
    "cc_subreddit = reddit.subreddit('CryptoCurrency').top(limit=None)\n",
    "\n",
    "posts = []\n",
    "\n",
    "for post in cc_subreddit:\n",
    "    posts.append([post.title, post.score, datetime.fromtimestamp(post.created)])\n",
    "    \n",
    "posts = pd.DataFrame(posts, columns = ['title', 'score', 'created'])\n",
    "\n",
    "posts.to_csv('cc_subreddit.csv')\n",
    "\n",
    "print(posts.head())"
   ]
  },
  {
   "cell_type": "markdown",
   "id": "b7707967",
   "metadata": {},
   "source": [
    "## Using Pushshift"
   ]
  },
  {
   "cell_type": "code",
   "execution_count": 1,
   "id": "e7ae95c6",
   "metadata": {},
   "outputs": [
    {
     "ename": "KeyboardInterrupt",
     "evalue": "",
     "output_type": "error",
     "traceback": [
      "\u001b[0;31m---------------------------------------------------------------------------\u001b[0m",
      "\u001b[0;31mKeyboardInterrupt\u001b[0m                         Traceback (most recent call last)",
      "\u001b[0;32m<ipython-input-1-6ff3f39374b7>\u001b[0m in \u001b[0;36m<module>\u001b[0;34m\u001b[0m\n\u001b[1;32m     61\u001b[0m     \u001b[0;32mfor\u001b[0m \u001b[0mstart_time\u001b[0m \u001b[0;32min\u001b[0m \u001b[0mrange\u001b[0m\u001b[0;34m(\u001b[0m\u001b[0mstart_epoch\u001b[0m\u001b[0;34m,\u001b[0m \u001b[0mend_epoch\u001b[0m\u001b[0;34m,\u001b[0m \u001b[0mbatch_size\u001b[0m\u001b[0;34m*\u001b[0m\u001b[0;36m86400\u001b[0m\u001b[0;34m)\u001b[0m\u001b[0;34m:\u001b[0m\u001b[0;34m\u001b[0m\u001b[0;34m\u001b[0m\u001b[0m\n\u001b[1;32m     62\u001b[0m         \u001b[0mend_time\u001b[0m \u001b[0;34m=\u001b[0m \u001b[0mstart_time\u001b[0m \u001b[0;34m+\u001b[0m \u001b[0mbatch_size\u001b[0m \u001b[0;34m*\u001b[0m \u001b[0;36m86400\u001b[0m\u001b[0;34m\u001b[0m\u001b[0;34m\u001b[0m\u001b[0m\n\u001b[0;32m---> 63\u001b[0;31m         \u001b[0mpool\u001b[0m\u001b[0;34m.\u001b[0m\u001b[0mapply\u001b[0m\u001b[0;34m(\u001b[0m\u001b[0mget_data\u001b[0m\u001b[0;34m,\u001b[0m \u001b[0;34m(\u001b[0m\u001b[0mstart_time\u001b[0m\u001b[0;34m,\u001b[0m \u001b[0mend_time\u001b[0m\u001b[0;34m,\u001b[0m \u001b[0mcount\u001b[0m\u001b[0;34m)\u001b[0m\u001b[0;34m)\u001b[0m\u001b[0;34m\u001b[0m\u001b[0;34m\u001b[0m\u001b[0m\n\u001b[0m\u001b[1;32m     64\u001b[0m         \u001b[0mcount\u001b[0m \u001b[0;34m+=\u001b[0m \u001b[0;36m1\u001b[0m\u001b[0;34m\u001b[0m\u001b[0;34m\u001b[0m\u001b[0m\n\u001b[1;32m     65\u001b[0m \u001b[0;34m\u001b[0m\u001b[0m\n",
      "\u001b[0;32m~/opt/anaconda3/lib/python3.8/multiprocessing/pool.py\u001b[0m in \u001b[0;36mapply\u001b[0;34m(self, func, args, kwds)\u001b[0m\n\u001b[1;32m    355\u001b[0m         \u001b[0mPool\u001b[0m \u001b[0mmust\u001b[0m \u001b[0mbe\u001b[0m \u001b[0mrunning\u001b[0m\u001b[0;34m.\u001b[0m\u001b[0;34m\u001b[0m\u001b[0;34m\u001b[0m\u001b[0m\n\u001b[1;32m    356\u001b[0m         '''\n\u001b[0;32m--> 357\u001b[0;31m         \u001b[0;32mreturn\u001b[0m \u001b[0mself\u001b[0m\u001b[0;34m.\u001b[0m\u001b[0mapply_async\u001b[0m\u001b[0;34m(\u001b[0m\u001b[0mfunc\u001b[0m\u001b[0;34m,\u001b[0m \u001b[0margs\u001b[0m\u001b[0;34m,\u001b[0m \u001b[0mkwds\u001b[0m\u001b[0;34m)\u001b[0m\u001b[0;34m.\u001b[0m\u001b[0mget\u001b[0m\u001b[0;34m(\u001b[0m\u001b[0;34m)\u001b[0m\u001b[0;34m\u001b[0m\u001b[0;34m\u001b[0m\u001b[0m\n\u001b[0m\u001b[1;32m    358\u001b[0m \u001b[0;34m\u001b[0m\u001b[0m\n\u001b[1;32m    359\u001b[0m     \u001b[0;32mdef\u001b[0m \u001b[0mmap\u001b[0m\u001b[0;34m(\u001b[0m\u001b[0mself\u001b[0m\u001b[0;34m,\u001b[0m \u001b[0mfunc\u001b[0m\u001b[0;34m,\u001b[0m \u001b[0miterable\u001b[0m\u001b[0;34m,\u001b[0m \u001b[0mchunksize\u001b[0m\u001b[0;34m=\u001b[0m\u001b[0;32mNone\u001b[0m\u001b[0;34m)\u001b[0m\u001b[0;34m:\u001b[0m\u001b[0;34m\u001b[0m\u001b[0;34m\u001b[0m\u001b[0m\n",
      "\u001b[0;32m~/opt/anaconda3/lib/python3.8/multiprocessing/pool.py\u001b[0m in \u001b[0;36mget\u001b[0;34m(self, timeout)\u001b[0m\n\u001b[1;32m    763\u001b[0m \u001b[0;34m\u001b[0m\u001b[0m\n\u001b[1;32m    764\u001b[0m     \u001b[0;32mdef\u001b[0m \u001b[0mget\u001b[0m\u001b[0;34m(\u001b[0m\u001b[0mself\u001b[0m\u001b[0;34m,\u001b[0m \u001b[0mtimeout\u001b[0m\u001b[0;34m=\u001b[0m\u001b[0;32mNone\u001b[0m\u001b[0;34m)\u001b[0m\u001b[0;34m:\u001b[0m\u001b[0;34m\u001b[0m\u001b[0;34m\u001b[0m\u001b[0m\n\u001b[0;32m--> 765\u001b[0;31m         \u001b[0mself\u001b[0m\u001b[0;34m.\u001b[0m\u001b[0mwait\u001b[0m\u001b[0;34m(\u001b[0m\u001b[0mtimeout\u001b[0m\u001b[0;34m)\u001b[0m\u001b[0;34m\u001b[0m\u001b[0;34m\u001b[0m\u001b[0m\n\u001b[0m\u001b[1;32m    766\u001b[0m         \u001b[0;32mif\u001b[0m \u001b[0;32mnot\u001b[0m \u001b[0mself\u001b[0m\u001b[0;34m.\u001b[0m\u001b[0mready\u001b[0m\u001b[0;34m(\u001b[0m\u001b[0;34m)\u001b[0m\u001b[0;34m:\u001b[0m\u001b[0;34m\u001b[0m\u001b[0;34m\u001b[0m\u001b[0m\n\u001b[1;32m    767\u001b[0m             \u001b[0;32mraise\u001b[0m \u001b[0mTimeoutError\u001b[0m\u001b[0;34m\u001b[0m\u001b[0;34m\u001b[0m\u001b[0m\n",
      "\u001b[0;32m~/opt/anaconda3/lib/python3.8/multiprocessing/pool.py\u001b[0m in \u001b[0;36mwait\u001b[0;34m(self, timeout)\u001b[0m\n\u001b[1;32m    760\u001b[0m \u001b[0;34m\u001b[0m\u001b[0m\n\u001b[1;32m    761\u001b[0m     \u001b[0;32mdef\u001b[0m \u001b[0mwait\u001b[0m\u001b[0;34m(\u001b[0m\u001b[0mself\u001b[0m\u001b[0;34m,\u001b[0m \u001b[0mtimeout\u001b[0m\u001b[0;34m=\u001b[0m\u001b[0;32mNone\u001b[0m\u001b[0;34m)\u001b[0m\u001b[0;34m:\u001b[0m\u001b[0;34m\u001b[0m\u001b[0;34m\u001b[0m\u001b[0m\n\u001b[0;32m--> 762\u001b[0;31m         \u001b[0mself\u001b[0m\u001b[0;34m.\u001b[0m\u001b[0m_event\u001b[0m\u001b[0;34m.\u001b[0m\u001b[0mwait\u001b[0m\u001b[0;34m(\u001b[0m\u001b[0mtimeout\u001b[0m\u001b[0;34m)\u001b[0m\u001b[0;34m\u001b[0m\u001b[0;34m\u001b[0m\u001b[0m\n\u001b[0m\u001b[1;32m    763\u001b[0m \u001b[0;34m\u001b[0m\u001b[0m\n\u001b[1;32m    764\u001b[0m     \u001b[0;32mdef\u001b[0m \u001b[0mget\u001b[0m\u001b[0;34m(\u001b[0m\u001b[0mself\u001b[0m\u001b[0;34m,\u001b[0m \u001b[0mtimeout\u001b[0m\u001b[0;34m=\u001b[0m\u001b[0;32mNone\u001b[0m\u001b[0;34m)\u001b[0m\u001b[0;34m:\u001b[0m\u001b[0;34m\u001b[0m\u001b[0;34m\u001b[0m\u001b[0m\n",
      "\u001b[0;32m~/opt/anaconda3/lib/python3.8/threading.py\u001b[0m in \u001b[0;36mwait\u001b[0;34m(self, timeout)\u001b[0m\n\u001b[1;32m    556\u001b[0m             \u001b[0msignaled\u001b[0m \u001b[0;34m=\u001b[0m \u001b[0mself\u001b[0m\u001b[0;34m.\u001b[0m\u001b[0m_flag\u001b[0m\u001b[0;34m\u001b[0m\u001b[0;34m\u001b[0m\u001b[0m\n\u001b[1;32m    557\u001b[0m             \u001b[0;32mif\u001b[0m \u001b[0;32mnot\u001b[0m \u001b[0msignaled\u001b[0m\u001b[0;34m:\u001b[0m\u001b[0;34m\u001b[0m\u001b[0;34m\u001b[0m\u001b[0m\n\u001b[0;32m--> 558\u001b[0;31m                 \u001b[0msignaled\u001b[0m \u001b[0;34m=\u001b[0m \u001b[0mself\u001b[0m\u001b[0;34m.\u001b[0m\u001b[0m_cond\u001b[0m\u001b[0;34m.\u001b[0m\u001b[0mwait\u001b[0m\u001b[0;34m(\u001b[0m\u001b[0mtimeout\u001b[0m\u001b[0;34m)\u001b[0m\u001b[0;34m\u001b[0m\u001b[0;34m\u001b[0m\u001b[0m\n\u001b[0m\u001b[1;32m    559\u001b[0m             \u001b[0;32mreturn\u001b[0m \u001b[0msignaled\u001b[0m\u001b[0;34m\u001b[0m\u001b[0;34m\u001b[0m\u001b[0m\n\u001b[1;32m    560\u001b[0m \u001b[0;34m\u001b[0m\u001b[0m\n",
      "\u001b[0;32m~/opt/anaconda3/lib/python3.8/threading.py\u001b[0m in \u001b[0;36mwait\u001b[0;34m(self, timeout)\u001b[0m\n\u001b[1;32m    300\u001b[0m         \u001b[0;32mtry\u001b[0m\u001b[0;34m:\u001b[0m    \u001b[0;31m# restore state no matter what (e.g., KeyboardInterrupt)\u001b[0m\u001b[0;34m\u001b[0m\u001b[0;34m\u001b[0m\u001b[0m\n\u001b[1;32m    301\u001b[0m             \u001b[0;32mif\u001b[0m \u001b[0mtimeout\u001b[0m \u001b[0;32mis\u001b[0m \u001b[0;32mNone\u001b[0m\u001b[0;34m:\u001b[0m\u001b[0;34m\u001b[0m\u001b[0;34m\u001b[0m\u001b[0m\n\u001b[0;32m--> 302\u001b[0;31m                 \u001b[0mwaiter\u001b[0m\u001b[0;34m.\u001b[0m\u001b[0macquire\u001b[0m\u001b[0;34m(\u001b[0m\u001b[0;34m)\u001b[0m\u001b[0;34m\u001b[0m\u001b[0;34m\u001b[0m\u001b[0m\n\u001b[0m\u001b[1;32m    303\u001b[0m                 \u001b[0mgotit\u001b[0m \u001b[0;34m=\u001b[0m \u001b[0;32mTrue\u001b[0m\u001b[0;34m\u001b[0m\u001b[0;34m\u001b[0m\u001b[0m\n\u001b[1;32m    304\u001b[0m             \u001b[0;32melse\u001b[0m\u001b[0;34m:\u001b[0m\u001b[0;34m\u001b[0m\u001b[0;34m\u001b[0m\u001b[0m\n",
      "\u001b[0;31mKeyboardInterrupt\u001b[0m: "
     ]
    }
   ],
   "source": [
    "import requests\n",
    "from csv import DictReader, DictWriter\n",
    "import pandas as pd\n",
    "from datetime import datetime\n",
    "import praw\n",
    "import multiprocessing\n",
    "\n",
    "def get_pushshift_data(data_type, **kwargs):\n",
    "    base_url = f\"https://api.pushshift.io/reddit/search/{data_type}/\"\n",
    "    request = requests.get(base_url, params=kwargs)\n",
    "    return request.json()\n",
    "\n",
    "        \n",
    "def get_data(before, after, batch_id, size = 20):\n",
    "    reddit = praw.Reddit(\n",
    "        client_id = '63UKv9Swsihz50RrdRchjA', \n",
    "        client_secret = 'jcFfZDuuREplPRZaiJzA3LNv3PjCBg',\n",
    "        user_agent = 'Homer_Hu')\n",
    "    data_type = \"submission\"\n",
    "    subreddit = \"CryptoCurrency\"\n",
    "    aggs = ['url', 'title', 'selftext', 'created_utc']\n",
    "    filename = 'cc_subreddit_' + str(batch_id) + \".csv\"\n",
    "    pd.DataFrame({'title':[], 'content':[], 'score':[], 'time':[], 'url':[]}).to_csv(filename, index = False)\n",
    "    with open(filename, 'a', newline = '') as f:\n",
    "        for start_time in range(before, after, 86400):\n",
    "            end_time = start_time + 86400\n",
    "            cc_subreddit_submissions = get_pushshift_data(\n",
    "                data_type = data_type, \n",
    "                after = start_time,\n",
    "                before = end_time,\n",
    "                subreddit = subreddit, \n",
    "                aggs = aggs,\n",
    "                size = size\n",
    "            )\n",
    "            for post in cc_subreddit_submissions['data']:\n",
    "                try:\n",
    "                    post['score'] = reddit.submission(url = post['url']).score\n",
    "                    # PSAW does not update score, therefore have to obtain score through PRAW\n",
    "                    DictWriter(f, fieldnames = ['title', 'content', 'score', 'time', 'url']).writerow({\n",
    "                        'title':post['title'], \n",
    "                        'content':post['selftext'], \n",
    "                        'score':post['score'], \n",
    "                        'time':datetime.fromtimestamp(post['created_utc']),\n",
    "                        'url':post['url']})\n",
    "                except:\n",
    "                    continue\n",
    "    print(str(batch_id) + \"th batch scraping completed.\")\n",
    "                \n",
    "if __name__ == '__main__':\n",
    "    \n",
    "    pool = multiprocessing.Pool(processes = 4)\n",
    "    \n",
    "    start_epoch = int(datetime(2020, 1, 10).timestamp())\n",
    "    end_epoch = int(datetime(2022, 2, 18).timestamp())\n",
    "\n",
    "    batch_size = 5\n",
    "    count = 1\n",
    "\n",
    "    for start_time in range(start_epoch, end_epoch, batch_size*86400):\n",
    "        end_time = start_time + batch_size * 86400\n",
    "        pool.apply(get_data, (start_time, end_time, count))\n",
    "        count += 1\n",
    "\n",
    "    pool.close()\n",
    "    pool.join()\n",
    "\n",
    "    print(\"Data Collection Complete.\")\n",
    "    \n",
    "    files = [('cc_subreddit_' + str(i) + \".csv\") for i in range(1, count)]\n",
    "    cc_subreddit = pd.concat([pd.read_csv(file) for file in files ])\n",
    "    cc_subreddit.to_csv( \"cc_subreddit_all.csv\", index = False)\n",
    "\n",
    "    print(\"CSV File Generation Complete.\")\n",
    "    \n",
    "    import os\n",
    "    \n",
    "    for file in files:\n",
    "        os.remove(file)\n",
    "        \n",
    "    print(\"Temporary Data Deletion Complete.\")\n"
   ]
  },
  {
   "cell_type": "markdown",
   "id": "1aca5aac",
   "metadata": {},
   "source": [
    "# Load the Data"
   ]
  },
  {
   "cell_type": "code",
   "execution_count": 13,
   "id": "3ee345ef",
   "metadata": {},
   "outputs": [
    {
     "name": "stdout",
     "output_type": "stream",
     "text": [
      "                                                  title  \\\n",
      "0          Cryptocurrency correlation analysis for free   \n",
      "1     ITProPortal is supported by its audience. When...   \n",
      "2     #CLD #DTA If used correctly, cloud computing w...   \n",
      "3                                    Don't use BitMart!   \n",
      "4     #ETH #BTC Buyers failed to break through and f...   \n",
      "...                                                 ...   \n",
      "8164  Trivium Node has released BLACKBOX: a collecti...   \n",
      "8165                                        brrrmachine   \n",
      "8166                Send usdc to smart contract address   \n",
      "8167                                  Solana vs Cardano   \n",
      "8168                        Digital vs Virtual Currency   \n",
      "\n",
      "                                                content  score        time  \\\n",
      "0     Hello Everyone! Recently we launch crypto port...      1  2020-01-10   \n",
      "1                                             [removed]      1  2020-01-10   \n",
      "2                                             [removed]      1  2020-01-10   \n",
      "3     BitMart will accept deposits of your crypto wi...      1  2020-01-10   \n",
      "4                                             [removed]      1  2020-01-10   \n",
      "...                                                 ...    ...         ...   \n",
      "8164   \\n\\n**Trivium Node has released BLACKBOX**: a...      1  2022-02-18   \n",
      "8165                                          [removed]      1  2022-02-18   \n",
      "8166  Hi everyone! Some months ago I erroneously sen...      1  2022-02-18   \n",
      "8167                                          [removed]      1  2022-02-18   \n",
      "8168                                          [removed]      1  2022-02-18   \n",
      "\n",
      "                                                    url  \n",
      "0     https://www.reddit.com/r/CryptoCurrency/commen...  \n",
      "1     https://www.reddit.com/r/CryptoCurrency/commen...  \n",
      "2     https://www.reddit.com/r/CryptoCurrency/commen...  \n",
      "3     https://www.reddit.com/r/CryptoCurrency/commen...  \n",
      "4     https://www.reddit.com/r/CryptoCurrency/commen...  \n",
      "...                                                 ...  \n",
      "8164  https://www.reddit.com/r/CryptoCurrency/commen...  \n",
      "8165  https://www.reddit.com/r/CryptoCurrency/commen...  \n",
      "8166  https://www.reddit.com/r/CryptoCurrency/commen...  \n",
      "8167  https://www.reddit.com/r/CryptoCurrency/commen...  \n",
      "8168  https://www.reddit.com/r/CryptoCurrency/commen...  \n",
      "\n",
      "[8169 rows x 5 columns]\n"
     ]
    }
   ],
   "source": [
    "import pandas as pd\n",
    "\n",
    "posts = pd.read_csv('cc_subreddit_all.csv')\n",
    "\n",
    "posts['time'] = posts['time'].apply(lambda x: x[:10])\n",
    "\n",
    "posts.to_csv( \"cc_subreddit_all.csv\", index = False)\n",
    "\n",
    "print(posts)"
   ]
  },
  {
   "cell_type": "markdown",
   "id": "e8c1a876",
   "metadata": {},
   "source": [
    "# Load Price Data of BTC and ETH"
   ]
  },
  {
   "cell_type": "code",
   "execution_count": 32,
   "id": "da4c4bbf",
   "metadata": {},
   "outputs": [
    {
     "data": {
      "image/png": "[encoded data removed]",
      "text/plain": [
       "<Figure size 432x288 with 1 Axes>"
      ]
     },
     "metadata": {
      "needs_background": "light"
     },
     "output_type": "display_data"
    },
    {
     "data": {
      "image/png": "[encoded data removed]",
      "text/plain": [
       "<Figure size 432x288 with 1 Axes>"
      ]
     },
     "metadata": {
      "needs_background": "light"
     },
     "output_type": "display_data"
    }
   ],
   "source": [
    "import matplotlib.pyplot as plt\n",
    "import numpy as np\n",
    "\n",
    "eth_usd = pd.read_csv(\"ETH-USD.csv\")\n",
    "btc_usd = pd.read_csv(\"BTC-USD.csv\")\n",
    "\n",
    "plt.plot(eth_usd['Date'], eth_usd['Open'])\n",
    "plt.title('ETH-USD from 20/01/10 to 22/02/18')\n",
    "plt.xticks(np.arange(0, len(eth_usd), 175))\n",
    "plt.show()\n",
    "\n",
    "plt.plot(btc_usd['Date'], btc_usd['Open'])\n",
    "plt.title('BTC-USD from 20/01/10 to 22/02/18')\n",
    "plt.xticks(np.arange(0, len(btc_usd), 175))\n",
    "plt.show()"
   ]
  },
  {
   "cell_type": "code",
   "execution_count": null,
   "id": "d2fd8903",
   "metadata": {},
   "outputs": [],
   "source": []
  }
 ],
 "metadata": {
  "kernelspec": {
   "display_name": "Python 3",
   "language": "python",
   "name": "python3"
  },
  "language_info": {
   "codemirror_mode": {
    "name": "ipython",
    "version": 3
   },
   "file_extension": ".py",
   "mimetype": "text/x-python",
   "name": "python",
   "nbconvert_exporter": "python",
   "pygments_lexer": "ipython3",
   "version": "3.8.8"
  }
 },
 "nbformat": 4,
 "nbformat_minor": 5
}
